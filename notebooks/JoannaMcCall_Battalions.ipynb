{
 "cells": [
  {
   "cell_type": "markdown",
   "id": "26e80a67",
   "metadata": {},
   "source": [
    "###### Imports"
   ]
  },
  {
   "cell_type": "code",
   "execution_count": 1,
   "id": "ccf72519",
   "metadata": {},
   "outputs": [],
   "source": [
    "import pandas as pd\n",
    "import requests\n",
    "import matplotlib.pyplot as plt\n",
    "import datetime\n",
    "from datetime import datetime, timedelta"
   ]
  },
  {
   "cell_type": "markdown",
   "id": "dfa39f22",
   "metadata": {},
   "source": [
    "## Set variables for time limit"
   ]
  },
  {
   "cell_type": "code",
   "execution_count": 2,
   "id": "20c7d886",
   "metadata": {},
   "outputs": [
    {
     "data": {
      "text/plain": [
       "datetime.datetime(2022, 2, 16, 12, 1, 46, 365853)"
      ]
     },
     "execution_count": 2,
     "metadata": {},
     "output_type": "execute_result"
    }
   ],
   "source": [
    "#create datetime objects for today and 12 30 day months before today\n",
    "today = datetime.now()\n",
    "pastlimit = today - timedelta(days=12*30)\n",
    "pastlimit"
   ]
  },
  {
   "cell_type": "code",
   "execution_count": 3,
   "id": "92866cf4",
   "metadata": {},
   "outputs": [],
   "source": [
    "#the API takes the floating datetime as a string in a certain format, convert to that\n",
    "today_str = today.strftime(\"%Y-%m-%dT%H:%M:%S\")\n",
    "pastlimit_str = pastlimit.strftime(\"%Y-%m-%dT%H:%M:%S\")"
   ]
  },
  {
   "cell_type": "markdown",
   "id": "360c38b9",
   "metadata": {},
   "source": [
    "## Make API call"
   ]
  },
  {
   "cell_type": "code",
   "execution_count": 4,
   "id": "d798e3df",
   "metadata": {},
   "outputs": [
    {
     "data": {
      "text/plain": [
       "200"
      ]
     },
     "execution_count": 4,
     "metadata": {},
     "output_type": "execute_result"
    }
   ],
   "source": [
    "endpoint = 'https://data.sfgov.org/resource/RowID.json'\n",
    "params = {'$select': 'received_dttm, on_scene_dttm, battalion', #select the three columns needed for analysis\n",
    "         '$where': \"received_dttm between '{past}' and '{present}'\".format(past = pastlimit_str, present = today_str), #use vars to set time frame\n",
    "         '$limit': 1000000} #make sure we're not loosing anything by setting a high limit\n",
    "response = requests.get(endpoint, params = params)\n",
    "response.status_code"
   ]
  },
  {
   "cell_type": "markdown",
   "id": "035b63a8",
   "metadata": {},
   "source": [
    "## Create DataFrame, check data"
   ]
  },
  {
   "cell_type": "code",
   "execution_count": 5,
   "id": "d85c5a5c",
   "metadata": {},
   "outputs": [
    {
     "name": "stdout",
     "output_type": "stream",
     "text": [
      "(322714, 3)\n"
     ]
    },
    {
     "data": {
      "text/html": [
       "<div>\n",
       "<style scoped>\n",
       "    .dataframe tbody tr th:only-of-type {\n",
       "        vertical-align: middle;\n",
       "    }\n",
       "\n",
       "    .dataframe tbody tr th {\n",
       "        vertical-align: top;\n",
       "    }\n",
       "\n",
       "    .dataframe thead th {\n",
       "        text-align: right;\n",
       "    }\n",
       "</style>\n",
       "<table border=\"1\" class=\"dataframe\">\n",
       "  <thead>\n",
       "    <tr style=\"text-align: right;\">\n",
       "      <th></th>\n",
       "      <th>received_dttm</th>\n",
       "      <th>battalion</th>\n",
       "      <th>on_scene_dttm</th>\n",
       "    </tr>\n",
       "  </thead>\n",
       "  <tbody>\n",
       "    <tr>\n",
       "      <th>0</th>\n",
       "      <td>2022-02-16T12:01:50.000</td>\n",
       "      <td>B02</td>\n",
       "      <td>NaN</td>\n",
       "    </tr>\n",
       "    <tr>\n",
       "      <th>1</th>\n",
       "      <td>2022-02-16T12:01:50.000</td>\n",
       "      <td>B02</td>\n",
       "      <td>2022-02-16T12:10:02.000</td>\n",
       "    </tr>\n",
       "    <tr>\n",
       "      <th>2</th>\n",
       "      <td>2022-02-16T12:01:56.000</td>\n",
       "      <td>B02</td>\n",
       "      <td>NaN</td>\n",
       "    </tr>\n",
       "    <tr>\n",
       "      <th>3</th>\n",
       "      <td>2022-02-16T12:01:56.000</td>\n",
       "      <td>B02</td>\n",
       "      <td>2022-02-16T12:07:26.000</td>\n",
       "    </tr>\n",
       "    <tr>\n",
       "      <th>4</th>\n",
       "      <td>2022-02-16T12:06:41.000</td>\n",
       "      <td>B02</td>\n",
       "      <td>2022-02-16T12:14:40.000</td>\n",
       "    </tr>\n",
       "  </tbody>\n",
       "</table>\n",
       "</div>"
      ],
      "text/plain": [
       "             received_dttm battalion            on_scene_dttm\n",
       "0  2022-02-16T12:01:50.000       B02                      NaN\n",
       "1  2022-02-16T12:01:50.000       B02  2022-02-16T12:10:02.000\n",
       "2  2022-02-16T12:01:56.000       B02                      NaN\n",
       "3  2022-02-16T12:01:56.000       B02  2022-02-16T12:07:26.000\n",
       "4  2022-02-16T12:06:41.000       B02  2022-02-16T12:14:40.000"
      ]
     },
     "execution_count": 5,
     "metadata": {},
     "output_type": "execute_result"
    }
   ],
   "source": [
    "#concert response to pandas dataframe\n",
    "df = pd.DataFrame(data = response.json())\n",
    "print(df.shape)\n",
    "df.head()"
   ]
  },
  {
   "cell_type": "code",
   "execution_count": 6,
   "id": "d98f7701",
   "metadata": {},
   "outputs": [
    {
     "data": {
      "text/html": [
       "<div>\n",
       "<style scoped>\n",
       "    .dataframe tbody tr th:only-of-type {\n",
       "        vertical-align: middle;\n",
       "    }\n",
       "\n",
       "    .dataframe tbody tr th {\n",
       "        vertical-align: top;\n",
       "    }\n",
       "\n",
       "    .dataframe thead th {\n",
       "        text-align: right;\n",
       "    }\n",
       "</style>\n",
       "<table border=\"1\" class=\"dataframe\">\n",
       "  <thead>\n",
       "    <tr style=\"text-align: right;\">\n",
       "      <th></th>\n",
       "      <th>received_dttm</th>\n",
       "      <th>battalion</th>\n",
       "      <th>on_scene_dttm</th>\n",
       "    </tr>\n",
       "  </thead>\n",
       "  <tbody>\n",
       "    <tr>\n",
       "      <th>322709</th>\n",
       "      <td>2023-02-11T02:36:34.000</td>\n",
       "      <td>B05</td>\n",
       "      <td>2023-02-11T02:42:26.000</td>\n",
       "    </tr>\n",
       "    <tr>\n",
       "      <th>322710</th>\n",
       "      <td>2023-02-11T02:49:35.000</td>\n",
       "      <td>B03</td>\n",
       "      <td>NaN</td>\n",
       "    </tr>\n",
       "    <tr>\n",
       "      <th>322711</th>\n",
       "      <td>2023-02-11T02:50:44.000</td>\n",
       "      <td>B02</td>\n",
       "      <td>2023-02-11T02:55:56.000</td>\n",
       "    </tr>\n",
       "    <tr>\n",
       "      <th>322712</th>\n",
       "      <td>2023-02-11T02:50:44.000</td>\n",
       "      <td>B02</td>\n",
       "      <td>2023-02-11T02:54:30.000</td>\n",
       "    </tr>\n",
       "    <tr>\n",
       "      <th>322713</th>\n",
       "      <td>2023-02-11T02:56:27.000</td>\n",
       "      <td>B02</td>\n",
       "      <td>NaN</td>\n",
       "    </tr>\n",
       "  </tbody>\n",
       "</table>\n",
       "</div>"
      ],
      "text/plain": [
       "                  received_dttm battalion            on_scene_dttm\n",
       "322709  2023-02-11T02:36:34.000       B05  2023-02-11T02:42:26.000\n",
       "322710  2023-02-11T02:49:35.000       B03                      NaN\n",
       "322711  2023-02-11T02:50:44.000       B02  2023-02-11T02:55:56.000\n",
       "322712  2023-02-11T02:50:44.000       B02  2023-02-11T02:54:30.000\n",
       "322713  2023-02-11T02:56:27.000       B02                      NaN"
      ]
     },
     "execution_count": 6,
     "metadata": {},
     "output_type": "execute_result"
    }
   ],
   "source": [
    "df.tail()"
   ]
  },
  {
   "cell_type": "code",
   "execution_count": 7,
   "id": "161a149f",
   "metadata": {},
   "outputs": [
    {
     "data": {
      "text/plain": [
       "0"
      ]
     },
     "execution_count": 7,
     "metadata": {},
     "output_type": "execute_result"
    }
   ],
   "source": [
    "#check for null values: it slowed down the API call to filter them out, so checking here and dropping any in the time columns\n",
    "df['received_dttm'].isna().sum()"
   ]
  },
  {
   "cell_type": "code",
   "execution_count": 8,
   "id": "4b373db0",
   "metadata": {},
   "outputs": [
    {
     "data": {
      "text/plain": [
       "66116"
      ]
     },
     "execution_count": 8,
     "metadata": {},
     "output_type": "execute_result"
    }
   ],
   "source": [
    "df['on_scene_dttm'].isna().sum()"
   ]
  },
  {
   "cell_type": "code",
   "execution_count": 9,
   "id": "7e806e5d",
   "metadata": {},
   "outputs": [
    {
     "data": {
      "text/plain": [
       "0"
      ]
     },
     "execution_count": 9,
     "metadata": {},
     "output_type": "execute_result"
    }
   ],
   "source": [
    "#check for null values in battalions too\n",
    "df['battalion'].isna().sum()"
   ]
  },
  {
   "cell_type": "code",
   "execution_count": 10,
   "id": "0211ef93",
   "metadata": {},
   "outputs": [],
   "source": [
    "df.dropna(inplace = True)"
   ]
  },
  {
   "cell_type": "code",
   "execution_count": 11,
   "id": "f4160e95",
   "metadata": {},
   "outputs": [
    {
     "name": "stdout",
     "output_type": "stream",
     "text": [
      "<class 'pandas.core.frame.DataFrame'>\n",
      "Int64Index: 256598 entries, 1 to 322712\n",
      "Data columns (total 3 columns):\n",
      " #   Column         Non-Null Count   Dtype \n",
      "---  ------         --------------   ----- \n",
      " 0   received_dttm  256598 non-null  object\n",
      " 1   battalion      256598 non-null  object\n",
      " 2   on_scene_dttm  256598 non-null  object\n",
      "dtypes: object(3)\n",
      "memory usage: 7.8+ MB\n"
     ]
    }
   ],
   "source": [
    "#make sure datatypes are correct\n",
    "df.info()"
   ]
  },
  {
   "cell_type": "code",
   "execution_count": 12,
   "id": "11fc78ee",
   "metadata": {},
   "outputs": [
    {
     "name": "stdout",
     "output_type": "stream",
     "text": [
      "<class 'pandas.core.frame.DataFrame'>\n",
      "Int64Index: 256598 entries, 1 to 322712\n",
      "Data columns (total 3 columns):\n",
      " #   Column         Non-Null Count   Dtype         \n",
      "---  ------         --------------   -----         \n",
      " 0   received_dttm  256598 non-null  datetime64[ns]\n",
      " 1   battalion      256598 non-null  object        \n",
      " 2   on_scene_dttm  256598 non-null  datetime64[ns]\n",
      "dtypes: datetime64[ns](2), object(1)\n",
      "memory usage: 7.8+ MB\n"
     ]
    }
   ],
   "source": [
    "#the datetimes were imported as objects so convert these to datetime\n",
    "cols = ['received_dttm', 'on_scene_dttm']\n",
    "df[cols] = df[cols].apply(pd.to_datetime)\n",
    "df.info()"
   ]
  },
  {
   "cell_type": "code",
   "execution_count": 13,
   "id": "71229f6a",
   "metadata": {},
   "outputs": [
    {
     "data": {
      "text/plain": [
       "'2022-02-16 to 2023-02-11'"
      ]
     },
     "execution_count": 13,
     "metadata": {},
     "output_type": "execute_result"
    }
   ],
   "source": [
    "#check range\n",
    "date_range_received_calls = str(df['received_dttm'].dt.date.min()) + ' to ' +str(df['received_dttm'].dt.date.max())\n",
    "date_range_received_calls"
   ]
  },
  {
   "cell_type": "code",
   "execution_count": 14,
   "id": "bd8714df",
   "metadata": {},
   "outputs": [
    {
     "data": {
      "text/plain": [
       "'2022-02-16 to 2023-02-11'"
      ]
     },
     "execution_count": 14,
     "metadata": {},
     "output_type": "execute_result"
    }
   ],
   "source": [
    "#check range\n",
    "date_range_on_scene = str(df['on_scene_dttm'].dt.date.min()) + ' to ' +str(df['on_scene_dttm'].dt.date.max())\n",
    "date_range_on_scene"
   ]
  },
  {
   "cell_type": "markdown",
   "id": "4f6cbdda",
   "metadata": {},
   "source": [
    "## Create the columns needed to evaluate percentile response times"
   ]
  },
  {
   "cell_type": "code",
   "execution_count": 15,
   "id": "21f1d9e5",
   "metadata": {},
   "outputs": [
    {
     "data": {
      "text/html": [
       "<div>\n",
       "<style scoped>\n",
       "    .dataframe tbody tr th:only-of-type {\n",
       "        vertical-align: middle;\n",
       "    }\n",
       "\n",
       "    .dataframe tbody tr th {\n",
       "        vertical-align: top;\n",
       "    }\n",
       "\n",
       "    .dataframe thead th {\n",
       "        text-align: right;\n",
       "    }\n",
       "</style>\n",
       "<table border=\"1\" class=\"dataframe\">\n",
       "  <thead>\n",
       "    <tr style=\"text-align: right;\">\n",
       "      <th></th>\n",
       "      <th>received_dttm</th>\n",
       "      <th>battalion</th>\n",
       "      <th>on_scene_dttm</th>\n",
       "      <th>Response Time</th>\n",
       "    </tr>\n",
       "  </thead>\n",
       "  <tbody>\n",
       "    <tr>\n",
       "      <th>1</th>\n",
       "      <td>2022-02-16 12:01:50</td>\n",
       "      <td>B02</td>\n",
       "      <td>2022-02-16 12:10:02</td>\n",
       "      <td>0 days 00:08:12</td>\n",
       "    </tr>\n",
       "    <tr>\n",
       "      <th>3</th>\n",
       "      <td>2022-02-16 12:01:56</td>\n",
       "      <td>B02</td>\n",
       "      <td>2022-02-16 12:07:26</td>\n",
       "      <td>0 days 00:05:30</td>\n",
       "    </tr>\n",
       "    <tr>\n",
       "      <th>4</th>\n",
       "      <td>2022-02-16 12:06:41</td>\n",
       "      <td>B02</td>\n",
       "      <td>2022-02-16 12:14:40</td>\n",
       "      <td>0 days 00:07:59</td>\n",
       "    </tr>\n",
       "    <tr>\n",
       "      <th>5</th>\n",
       "      <td>2022-02-16 12:06:41</td>\n",
       "      <td>B02</td>\n",
       "      <td>2022-02-16 12:14:05</td>\n",
       "      <td>0 days 00:07:24</td>\n",
       "    </tr>\n",
       "    <tr>\n",
       "      <th>7</th>\n",
       "      <td>2022-02-16 12:08:33</td>\n",
       "      <td>B08</td>\n",
       "      <td>2022-02-16 12:16:33</td>\n",
       "      <td>0 days 00:08:00</td>\n",
       "    </tr>\n",
       "  </tbody>\n",
       "</table>\n",
       "</div>"
      ],
      "text/plain": [
       "        received_dttm battalion       on_scene_dttm   Response Time\n",
       "1 2022-02-16 12:01:50       B02 2022-02-16 12:10:02 0 days 00:08:12\n",
       "3 2022-02-16 12:01:56       B02 2022-02-16 12:07:26 0 days 00:05:30\n",
       "4 2022-02-16 12:06:41       B02 2022-02-16 12:14:40 0 days 00:07:59\n",
       "5 2022-02-16 12:06:41       B02 2022-02-16 12:14:05 0 days 00:07:24\n",
       "7 2022-02-16 12:08:33       B08 2022-02-16 12:16:33 0 days 00:08:00"
      ]
     },
     "execution_count": 15,
     "metadata": {},
     "output_type": "execute_result"
    }
   ],
   "source": [
    "df['Response Time'] = df['on_scene_dttm'] - df['received_dttm']\n",
    "df.head()"
   ]
  },
  {
   "cell_type": "code",
   "execution_count": 16,
   "id": "e8e0633f",
   "metadata": {},
   "outputs": [
    {
     "name": "stdout",
     "output_type": "stream",
     "text": [
      "<class 'pandas.core.frame.DataFrame'>\n",
      "Int64Index: 256598 entries, 1 to 322712\n",
      "Data columns (total 4 columns):\n",
      " #   Column         Non-Null Count   Dtype          \n",
      "---  ------         --------------   -----          \n",
      " 0   received_dttm  256598 non-null  datetime64[ns] \n",
      " 1   battalion      256598 non-null  object         \n",
      " 2   on_scene_dttm  256598 non-null  datetime64[ns] \n",
      " 3   Response Time  256598 non-null  timedelta64[ns]\n",
      "dtypes: datetime64[ns](2), object(1), timedelta64[ns](1)\n",
      "memory usage: 9.8+ MB\n"
     ]
    }
   ],
   "source": [
    "df.info()"
   ]
  },
  {
   "cell_type": "code",
   "execution_count": 17,
   "id": "325f5c5d",
   "metadata": {},
   "outputs": [],
   "source": [
    "#convert timedelta to a string datatype to split it up into hours/mins/seconds\n",
    "df['Response Time'] = df['Response Time'].astype(str).str.slice(start = -8)"
   ]
  },
  {
   "cell_type": "code",
   "execution_count": 18,
   "id": "e6c9bf79",
   "metadata": {},
   "outputs": [],
   "source": [
    "times = df['Response Time'].str.split(pat = ':', expand = True)\n",
    "df['Response Hours'] = times[0]\n",
    "df['Response Minutes'] = times[1]\n",
    "df['Response Seconds'] = times[2]"
   ]
  },
  {
   "cell_type": "code",
   "execution_count": 19,
   "id": "d1897490",
   "metadata": {},
   "outputs": [],
   "source": [
    "cols = ['Response Hours', 'Response Minutes', 'Response Seconds']\n",
    "df[cols] = df[cols].astype(int)"
   ]
  },
  {
   "cell_type": "code",
   "execution_count": 20,
   "id": "6ab2df55",
   "metadata": {},
   "outputs": [],
   "source": [
    "#find seconds in all time units to add and overwrite (will drop columns, don't need more)\n",
    "df['Response Hours'] = df['Response Hours'] * 36000\n",
    "df['Response Minutes'] = df['Response Minutes'] * 60"
   ]
  },
  {
   "cell_type": "code",
   "execution_count": 21,
   "id": "c5b825ea",
   "metadata": {},
   "outputs": [],
   "source": [
    "df['Response Time Seconds'] = df['Response Hours'] + df['Response Minutes'] + df['Response Seconds']"
   ]
  },
  {
   "cell_type": "code",
   "execution_count": 22,
   "id": "0aaeb355",
   "metadata": {},
   "outputs": [],
   "source": [
    "df.drop(columns = ['received_dttm', 'on_scene_dttm', 'Response Time', 'Response Hours', 'Response Minutes', 'Response Seconds'], inplace = True)"
   ]
  },
  {
   "cell_type": "markdown",
   "id": "d31b9ec3",
   "metadata": {},
   "source": [
    "## Group by battalion and quantile, create any relevant columns and adjust datatypes"
   ]
  },
  {
   "cell_type": "code",
   "execution_count": 23,
   "id": "5f1932fe",
   "metadata": {},
   "outputs": [],
   "source": [
    "df = df.groupby('battalion').quantile(.90).reset_index(drop = False)"
   ]
  },
  {
   "cell_type": "code",
   "execution_count": 24,
   "id": "8a93f5ae",
   "metadata": {},
   "outputs": [],
   "source": [
    "df['90th Percentile Response Time: Minutes'] = df['Response Time Seconds']/60\n",
    "df['90th Percentile Response Time: Time Delta'] = pd.to_timedelta(df['Response Time Seconds'], unit = 'sec')"
   ]
  },
  {
   "cell_type": "code",
   "execution_count": 25,
   "id": "1ea6e989",
   "metadata": {},
   "outputs": [],
   "source": [
    "#nicer\n",
    "df.rename(columns = {'battalion': 'Battalion', 'Response Time Seconds': '90th Percentile Response Time: Seconds'}, inplace = True)"
   ]
  },
  {
   "cell_type": "code",
   "execution_count": 26,
   "id": "073e0e13",
   "metadata": {},
   "outputs": [
    {
     "data": {
      "text/html": [
       "<div>\n",
       "<style scoped>\n",
       "    .dataframe tbody tr th:only-of-type {\n",
       "        vertical-align: middle;\n",
       "    }\n",
       "\n",
       "    .dataframe tbody tr th {\n",
       "        vertical-align: top;\n",
       "    }\n",
       "\n",
       "    .dataframe thead th {\n",
       "        text-align: right;\n",
       "    }\n",
       "</style>\n",
       "<table border=\"1\" class=\"dataframe\">\n",
       "  <thead>\n",
       "    <tr style=\"text-align: right;\">\n",
       "      <th></th>\n",
       "      <th>Battalion</th>\n",
       "      <th>90th Percentile Response Time: Seconds</th>\n",
       "      <th>90th Percentile Response Time: Minutes</th>\n",
       "      <th>90th Percentile Response Time: Time Delta</th>\n",
       "    </tr>\n",
       "  </thead>\n",
       "  <tbody>\n",
       "    <tr>\n",
       "      <th>0</th>\n",
       "      <td>B01</td>\n",
       "      <td>1356.0</td>\n",
       "      <td>22.600000</td>\n",
       "      <td>0 days 00:22:36</td>\n",
       "    </tr>\n",
       "    <tr>\n",
       "      <th>1</th>\n",
       "      <td>B02</td>\n",
       "      <td>1227.0</td>\n",
       "      <td>20.450000</td>\n",
       "      <td>0 days 00:20:27</td>\n",
       "    </tr>\n",
       "    <tr>\n",
       "      <th>2</th>\n",
       "      <td>B03</td>\n",
       "      <td>1328.0</td>\n",
       "      <td>22.133333</td>\n",
       "      <td>0 days 00:22:08</td>\n",
       "    </tr>\n",
       "    <tr>\n",
       "      <th>3</th>\n",
       "      <td>B04</td>\n",
       "      <td>1296.3</td>\n",
       "      <td>21.605000</td>\n",
       "      <td>0 days 00:21:36.300000</td>\n",
       "    </tr>\n",
       "    <tr>\n",
       "      <th>4</th>\n",
       "      <td>B05</td>\n",
       "      <td>1282.0</td>\n",
       "      <td>21.366667</td>\n",
       "      <td>0 days 00:21:22</td>\n",
       "    </tr>\n",
       "  </tbody>\n",
       "</table>\n",
       "</div>"
      ],
      "text/plain": [
       "  Battalion  90th Percentile Response Time: Seconds  \\\n",
       "0       B01                                  1356.0   \n",
       "1       B02                                  1227.0   \n",
       "2       B03                                  1328.0   \n",
       "3       B04                                  1296.3   \n",
       "4       B05                                  1282.0   \n",
       "\n",
       "   90th Percentile Response Time: Minutes  \\\n",
       "0                               22.600000   \n",
       "1                               20.450000   \n",
       "2                               22.133333   \n",
       "3                               21.605000   \n",
       "4                               21.366667   \n",
       "\n",
       "  90th Percentile Response Time: Time Delta  \n",
       "0                           0 days 00:22:36  \n",
       "1                           0 days 00:20:27  \n",
       "2                           0 days 00:22:08  \n",
       "3                    0 days 00:21:36.300000  \n",
       "4                           0 days 00:21:22  "
      ]
     },
     "execution_count": 26,
     "metadata": {},
     "output_type": "execute_result"
    }
   ],
   "source": [
    "df.head()"
   ]
  },
  {
   "cell_type": "markdown",
   "id": "875a376e",
   "metadata": {},
   "source": [
    "## Export .csv"
   ]
  },
  {
   "cell_type": "code",
   "execution_count": 27,
   "id": "0d7fa03e",
   "metadata": {},
   "outputs": [],
   "source": [
    "df.to_csv('JoannaMcCall_battalions_90thpercentiles.csv', index = False)"
   ]
  },
  {
   "cell_type": "markdown",
   "id": "19a5f6e1",
   "metadata": {},
   "source": [
    "## Visualize"
   ]
  },
  {
   "cell_type": "code",
   "execution_count": 28,
   "id": "e6cc8b47",
   "metadata": {},
   "outputs": [
    {
     "data": {
      "image/png": "[encoded data removed]",
      "text/plain": [
       "<Figure size 1000x500 with 1 Axes>"
      ]
     },
     "metadata": {},
     "output_type": "display_data"
    }
   ],
   "source": [
    "x = df['Battalion']\n",
    "y = df['90th Percentile Response Time: Minutes']\n",
    "fig, ax = plt.subplots(figsize = (10, 5))\n",
    "ax.bar(x, y, color = 'red')\n",
    "ax.set(title = '90th Percentile Response Times by Battalion (Minutes)', xlabel = 'Batallion', ylabel = 'Minutes')\n",
    "for j, k in zip(x, y):\n",
    "        label = '{:,.2f}'.format(k)\n",
    "        plt.annotate(label, (j, k), textcoords = 'offset points', xytext = (0, 3), ha = 'center')\n",
    "ax.set_ylim(top = 27)\n",
    "plt.show()\n",
    "plt.close();"
   ]
  },
  {
   "cell_type": "code",
   "execution_count": null,
   "id": "4671f4df",
   "metadata": {},
   "outputs": [],
   "source": []
  }
 ],
 "metadata": {
  "kernelspec": {
   "display_name": "Python 3 (ipykernel)",
   "language": "python",
   "name": "python3"
  },
  "language_info": {
   "codemirror_mode": {
    "name": "ipython",
    "version": 3
   },
   "file_extension": ".py",
   "mimetype": "text/x-python",
   "name": "python",
   "nbconvert_exporter": "python",
   "pygments_lexer": "ipython3",
   "version": "3.8.8"
  }
 },
 "nbformat": 4,
 "nbformat_minor": 5
}
