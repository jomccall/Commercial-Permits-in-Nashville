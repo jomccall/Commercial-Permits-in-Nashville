{
 "cells": [
  {
   "cell_type": "code",
   "execution_count": 6,
   "id": "satisfactory-outdoors",
   "metadata": {},
   "outputs": [],
   "source": [
    "import requests\n",
    "import matplotlib.pyplot as plt\n",
    "from IPython.display import Image\n",
    "import folium\n",
    "import pickle\n",
    "import pandas as pd\n",
    "\n",
    "%matplotlib inline\n",
    "\n",
    "#conda install -c conda-forge folium"
   ]
  },
  {
   "cell_type": "markdown",
   "id": "eleven-roads",
   "metadata": {},
   "source": [
    "## Usually we'd need a key, endpoint, and list of parameters... but you don't need a key with Socrata API."
   ]
  },
  {
   "cell_type": "code",
   "execution_count": 7,
   "id": "ultimate-bangladesh",
   "metadata": {},
   "outputs": [],
   "source": [
    "#endpoint:\n",
    "endpoint1 = 'https://data.nashville.gov/resource/fuaa-r5cm.json'"
   ]
  },
  {
   "cell_type": "code",
   "execution_count": 8,
   "id": "postal-heritage",
   "metadata": {},
   "outputs": [],
   "source": [
    "#parameters:\n",
    "params1 = {'$limit':50000}"
   ]
  },
  {
   "cell_type": "markdown",
   "id": "selective-collect",
   "metadata": {},
   "source": [
    "### First we want to: Make an API request that returns the entire Top 500 Monthly Searches dataset. Make a chart that shows the number of times \"maps\" was searched in a month across the entire time frame."
   ]
  },
  {
   "cell_type": "code",
   "execution_count": 9,
   "id": "electoral-alberta",
   "metadata": {},
   "outputs": [],
   "source": [
    "response = requests.get(endpoint1, params = params1)"
   ]
  },
  {
   "cell_type": "code",
   "execution_count": 10,
   "id": "hundred-albert",
   "metadata": {},
   "outputs": [
    {
     "data": {
      "text/plain": [
       "200"
      ]
     },
     "execution_count": 10,
     "metadata": {},
     "output_type": "execute_result"
    }
   ],
   "source": [
    "response.status_code"
   ]
  },
  {
   "cell_type": "code",
   "execution_count": 11,
   "id": "looking-ozone",
   "metadata": {},
   "outputs": [],
   "source": [
    "#response.json()"
   ]
  },
  {
   "cell_type": "code",
   "execution_count": 12,
   "id": "altered-christmas",
   "metadata": {},
   "outputs": [],
   "source": [
    "all = response.json()"
   ]
  },
  {
   "cell_type": "code",
   "execution_count": 13,
   "id": "cosmetic-crown",
   "metadata": {},
   "outputs": [],
   "source": [
    "all = pd.DataFrame(all)"
   ]
  },
  {
   "cell_type": "code",
   "execution_count": 14,
   "id": "involved-pierre",
   "metadata": {},
   "outputs": [
    {
     "data": {
      "text/html": [
       "<div>\n",
       "<style scoped>\n",
       "    .dataframe tbody tr th:only-of-type {\n",
       "        vertical-align: middle;\n",
       "    }\n",
       "\n",
       "    .dataframe tbody tr th {\n",
       "        vertical-align: top;\n",
       "    }\n",
       "\n",
       "    .dataframe thead th {\n",
       "        text-align: right;\n",
       "    }\n",
       "</style>\n",
       "<table border=\"1\" class=\"dataframe\">\n",
       "  <thead>\n",
       "    <tr style=\"text-align: right;\">\n",
       "      <th></th>\n",
       "      <th>month_name</th>\n",
       "      <th>year</th>\n",
       "      <th>query_count</th>\n",
       "      <th>query_text</th>\n",
       "      <th>month</th>\n",
       "    </tr>\n",
       "  </thead>\n",
       "  <tbody>\n",
       "    <tr>\n",
       "      <th>0</th>\n",
       "      <td>January</td>\n",
       "      <td>2014</td>\n",
       "      <td>223</td>\n",
       "      <td>ebid</td>\n",
       "      <td>NaN</td>\n",
       "    </tr>\n",
       "    <tr>\n",
       "      <th>1</th>\n",
       "      <td>January</td>\n",
       "      <td>2014</td>\n",
       "      <td>112</td>\n",
       "      <td>property maps</td>\n",
       "      <td>NaN</td>\n",
       "    </tr>\n",
       "    <tr>\n",
       "      <th>2</th>\n",
       "      <td>January</td>\n",
       "      <td>2014</td>\n",
       "      <td>97</td>\n",
       "      <td>maps</td>\n",
       "      <td>NaN</td>\n",
       "    </tr>\n",
       "    <tr>\n",
       "      <th>3</th>\n",
       "      <td>January</td>\n",
       "      <td>2014</td>\n",
       "      <td>90</td>\n",
       "      <td>property tax</td>\n",
       "      <td>NaN</td>\n",
       "    </tr>\n",
       "    <tr>\n",
       "      <th>4</th>\n",
       "      <td>January</td>\n",
       "      <td>2014</td>\n",
       "      <td>76</td>\n",
       "      <td>jobs</td>\n",
       "      <td>NaN</td>\n",
       "    </tr>\n",
       "  </tbody>\n",
       "</table>\n",
       "</div>"
      ],
      "text/plain": [
       "  month_name  year query_count     query_text month\n",
       "0    January  2014         223           ebid   NaN\n",
       "1    January  2014         112  property maps   NaN\n",
       "2    January  2014          97           maps   NaN\n",
       "3    January  2014          90   property tax   NaN\n",
       "4    January  2014          76           jobs   NaN"
      ]
     },
     "execution_count": 14,
     "metadata": {},
     "output_type": "execute_result"
    }
   ],
   "source": [
    "all.head()"
   ]
  },
  {
   "cell_type": "code",
   "execution_count": 10,
   "id": "representative-reconstruction",
   "metadata": {},
   "outputs": [
    {
     "data": {
      "text/plain": [
       "(41177, 5)"
      ]
     },
     "execution_count": 10,
     "metadata": {},
     "output_type": "execute_result"
    }
   ],
   "source": [
    "all.shape"
   ]
  },
  {
   "cell_type": "code",
   "execution_count": 11,
   "id": "accepted-diary",
   "metadata": {},
   "outputs": [
    {
     "data": {
      "text/plain": [
       "2014    6000\n",
       "2019    6000\n",
       "2017    6000\n",
       "2016    6000\n",
       "2020    5677\n",
       "2015    5500\n",
       "2018    5000\n",
       "2021    1000\n",
       "Name: year, dtype: int64"
      ]
     },
     "execution_count": 11,
     "metadata": {},
     "output_type": "execute_result"
    }
   ],
   "source": [
    "all.year.value_counts()"
   ]
  },
  {
   "cell_type": "markdown",
   "id": "suited-australia",
   "metadata": {},
   "source": [
    "#### Looks good so far... now subset instances where query text contains the word \"map\"."
   ]
  },
  {
   "cell_type": "code",
   "execution_count": 12,
   "id": "baking-cisco",
   "metadata": {},
   "outputs": [],
   "source": [
    "map_subset = all[all['query_text'].astype(str).str.contains(\"map|Map|MAp|maP|MAP\")].reset_index(drop = True)"
   ]
  },
  {
   "cell_type": "code",
   "execution_count": 13,
   "id": "damaged-manhattan",
   "metadata": {},
   "outputs": [],
   "source": [
    "map_subset = map_subset[['month_name', 'query_count']]"
   ]
  },
  {
   "cell_type": "code",
   "execution_count": 14,
   "id": "found-patent",
   "metadata": {},
   "outputs": [
    {
     "data": {
      "text/html": [
       "<div>\n",
       "<style scoped>\n",
       "    .dataframe tbody tr th:only-of-type {\n",
       "        vertical-align: middle;\n",
       "    }\n",
       "\n",
       "    .dataframe tbody tr th {\n",
       "        vertical-align: top;\n",
       "    }\n",
       "\n",
       "    .dataframe thead th {\n",
       "        text-align: right;\n",
       "    }\n",
       "</style>\n",
       "<table border=\"1\" class=\"dataframe\">\n",
       "  <thead>\n",
       "    <tr style=\"text-align: right;\">\n",
       "      <th></th>\n",
       "      <th>month_name</th>\n",
       "      <th>query_count</th>\n",
       "    </tr>\n",
       "  </thead>\n",
       "  <tbody>\n",
       "    <tr>\n",
       "      <th>0</th>\n",
       "      <td>January</td>\n",
       "      <td>112</td>\n",
       "    </tr>\n",
       "    <tr>\n",
       "      <th>1</th>\n",
       "      <td>January</td>\n",
       "      <td>97</td>\n",
       "    </tr>\n",
       "    <tr>\n",
       "      <th>2</th>\n",
       "      <td>January</td>\n",
       "      <td>14</td>\n",
       "    </tr>\n",
       "    <tr>\n",
       "      <th>3</th>\n",
       "      <td>January</td>\n",
       "      <td>13</td>\n",
       "    </tr>\n",
       "    <tr>\n",
       "      <th>4</th>\n",
       "      <td>January</td>\n",
       "      <td>12</td>\n",
       "    </tr>\n",
       "  </tbody>\n",
       "</table>\n",
       "</div>"
      ],
      "text/plain": [
       "  month_name query_count\n",
       "0    January         112\n",
       "1    January          97\n",
       "2    January          14\n",
       "3    January          13\n",
       "4    January          12"
      ]
     },
     "execution_count": 14,
     "metadata": {},
     "output_type": "execute_result"
    }
   ],
   "source": [
    "map_subset.head()"
   ]
  },
  {
   "cell_type": "code",
   "execution_count": 15,
   "id": "awful-chosen",
   "metadata": {},
   "outputs": [
    {
     "data": {
      "text/plain": [
       "(1147, 2)"
      ]
     },
     "execution_count": 15,
     "metadata": {},
     "output_type": "execute_result"
    }
   ],
   "source": [
    "map_subset.shape"
   ]
  },
  {
   "cell_type": "code",
   "execution_count": 16,
   "id": "suburban-romance",
   "metadata": {},
   "outputs": [
    {
     "name": "stdout",
     "output_type": "stream",
     "text": [
      "<class 'pandas.core.frame.DataFrame'>\n",
      "RangeIndex: 1147 entries, 0 to 1146\n",
      "Data columns (total 2 columns):\n",
      " #   Column       Non-Null Count  Dtype \n",
      "---  ------       --------------  ----- \n",
      " 0   month_name   1147 non-null   object\n",
      " 1   query_count  1146 non-null   object\n",
      "dtypes: object(2)\n",
      "memory usage: 18.0+ KB\n"
     ]
    }
   ],
   "source": [
    "map_subset.info()"
   ]
  },
  {
   "cell_type": "code",
   "execution_count": 17,
   "id": "infectious-albert",
   "metadata": {},
   "outputs": [],
   "source": [
    "map_subset.dropna(inplace = True)"
   ]
  },
  {
   "cell_type": "code",
   "execution_count": 18,
   "id": "impossible-blowing",
   "metadata": {},
   "outputs": [],
   "source": [
    "#convert query_count to numeric type so we can sum\n",
    "#map_subset.query_count = pd.to_numeric(map_subset.query_count)\n",
    "map_subset['query_count'] = map_subset.query_count.astype(int)"
   ]
  },
  {
   "cell_type": "code",
   "execution_count": 19,
   "id": "accurate-humidity",
   "metadata": {},
   "outputs": [
    {
     "name": "stdout",
     "output_type": "stream",
     "text": [
      "<class 'pandas.core.frame.DataFrame'>\n",
      "Int64Index: 1146 entries, 0 to 1146\n",
      "Data columns (total 2 columns):\n",
      " #   Column       Non-Null Count  Dtype \n",
      "---  ------       --------------  ----- \n",
      " 0   month_name   1146 non-null   object\n",
      " 1   query_count  1146 non-null   int32 \n",
      "dtypes: int32(1), object(1)\n",
      "memory usage: 22.4+ KB\n"
     ]
    }
   ],
   "source": [
    "#check\n",
    "map_subset.info()"
   ]
  },
  {
   "cell_type": "markdown",
   "id": "individual-xerox",
   "metadata": {},
   "source": [
    "#### Group the query counts by month."
   ]
  },
  {
   "cell_type": "markdown",
   "id": "scheduled-liberia",
   "metadata": {},
   "source": [
    "#### I'm just going to create a series and plot that - since I'm doing this from a subset the simple counts of the months' occurances correspond with the amount of times \"maps\" were in the queries."
   ]
  },
  {
   "cell_type": "code",
   "execution_count": 20,
   "id": "silver-parcel",
   "metadata": {},
   "outputs": [],
   "source": [
    "monthly = map_subset.groupby(['month_name'])['query_count'].apply(lambda x : x.astype(int).sum())"
   ]
  },
  {
   "cell_type": "code",
   "execution_count": 21,
   "id": "material-christopher",
   "metadata": {},
   "outputs": [],
   "source": [
    "monthly = pd.DataFrame(monthly)"
   ]
  },
  {
   "cell_type": "code",
   "execution_count": 22,
   "id": "laughing-defendant",
   "metadata": {},
   "outputs": [
    {
     "data": {
      "text/plain": [
       "<AxesSubplot:title={'center':'Map Related Searches Per Month Between 2014 & 2021'}, xlabel='Month', ylabel='Search Count'>"
      ]
     },
     "execution_count": 22,
     "metadata": {},
     "output_type": "execute_result"
    },
    {
     "data": {
      "image/png": "[encoded data removed]",
      "text/plain": [
       "<Figure size 432x288 with 1 Axes>"
      ]
     },
     "metadata": {
      "needs_background": "light"
     },
     "output_type": "display_data"
    }
   ],
   "source": [
    "monthly.sort_values(['query_count'], ascending = False).plot(kind = 'bar', \n",
    "      title = 'Map Related Searches Per Month Between 2014 & 2021', \n",
    "      color = 'teal', \n",
    "      xlabel = 'Month', \n",
    "      ylabel = 'Search Count')"
   ]
  },
  {
   "cell_type": "markdown",
   "id": "suffering-cloud",
   "metadata": {},
   "source": [
    "### Next: Make an API request that returns the months where \"fire\" was searched in 2016. Which month had the most searches?\n",
    "#### August"
   ]
  },
  {
   "cell_type": "code",
   "execution_count": 23,
   "id": "precise-traveler",
   "metadata": {},
   "outputs": [],
   "source": [
    "#endpoint:\n",
    "endpoint2 = 'https://data.nashville.gov/resource/fuaa-r5cm.json'"
   ]
  },
  {
   "cell_type": "code",
   "execution_count": 24,
   "id": "japanese-dividend",
   "metadata": {},
   "outputs": [],
   "source": [
    "#parameters:\n",
    "params2 = {'$limit':50000,\n",
    "          '$select': 'month_name, query_count',\n",
    "          '$q': 'fire',\n",
    "          'year': 2016}"
   ]
  },
  {
   "cell_type": "code",
   "execution_count": 25,
   "id": "silent-journalism",
   "metadata": {},
   "outputs": [],
   "source": [
    "response = requests.get(endpoint2, params = params2)"
   ]
  },
  {
   "cell_type": "code",
   "execution_count": 26,
   "id": "color-satin",
   "metadata": {},
   "outputs": [
    {
     "data": {
      "text/plain": [
       "200"
      ]
     },
     "execution_count": 26,
     "metadata": {},
     "output_type": "execute_result"
    }
   ],
   "source": [
    "response.status_code"
   ]
  },
  {
   "cell_type": "code",
   "execution_count": 27,
   "id": "destroyed-evaluation",
   "metadata": {},
   "outputs": [],
   "source": [
    "#response.json()"
   ]
  },
  {
   "cell_type": "code",
   "execution_count": 28,
   "id": "interesting-alpha",
   "metadata": {},
   "outputs": [],
   "source": [
    "fires_2016 = response.json()\n",
    "fires_2016 = pd.DataFrame(fires_2016)"
   ]
  },
  {
   "cell_type": "code",
   "execution_count": 29,
   "id": "commercial-amino",
   "metadata": {},
   "outputs": [
    {
     "data": {
      "text/html": [
       "<div>\n",
       "<style scoped>\n",
       "    .dataframe tbody tr th:only-of-type {\n",
       "        vertical-align: middle;\n",
       "    }\n",
       "\n",
       "    .dataframe tbody tr th {\n",
       "        vertical-align: top;\n",
       "    }\n",
       "\n",
       "    .dataframe thead th {\n",
       "        text-align: right;\n",
       "    }\n",
       "</style>\n",
       "<table border=\"1\" class=\"dataframe\">\n",
       "  <thead>\n",
       "    <tr style=\"text-align: right;\">\n",
       "      <th></th>\n",
       "      <th>month_name</th>\n",
       "      <th>query_count</th>\n",
       "    </tr>\n",
       "  </thead>\n",
       "  <tbody>\n",
       "    <tr>\n",
       "      <th>0</th>\n",
       "      <td>January</td>\n",
       "      <td>13</td>\n",
       "    </tr>\n",
       "    <tr>\n",
       "      <th>1</th>\n",
       "      <td>January</td>\n",
       "      <td>19</td>\n",
       "    </tr>\n",
       "    <tr>\n",
       "      <th>2</th>\n",
       "      <td>January</td>\n",
       "      <td>7</td>\n",
       "    </tr>\n",
       "    <tr>\n",
       "      <th>3</th>\n",
       "      <td>February</td>\n",
       "      <td>8</td>\n",
       "    </tr>\n",
       "    <tr>\n",
       "      <th>4</th>\n",
       "      <td>February</td>\n",
       "      <td>8</td>\n",
       "    </tr>\n",
       "  </tbody>\n",
       "</table>\n",
       "</div>"
      ],
      "text/plain": [
       "  month_name query_count\n",
       "0    January          13\n",
       "1    January          19\n",
       "2    January           7\n",
       "3   February           8\n",
       "4   February           8"
      ]
     },
     "execution_count": 29,
     "metadata": {},
     "output_type": "execute_result"
    }
   ],
   "source": [
    "fires_2016.head()"
   ]
  },
  {
   "cell_type": "code",
   "execution_count": 30,
   "id": "commercial-mexican",
   "metadata": {},
   "outputs": [],
   "source": [
    "fires_2016.dropna(inplace = True)\n",
    "fires_2016['query_count'] = fires_2016.query_count.astype(int)"
   ]
  },
  {
   "cell_type": "code",
   "execution_count": 31,
   "id": "round-syndrome",
   "metadata": {},
   "outputs": [],
   "source": [
    "fires_monthly = fires_2016.groupby(['month_name'])['query_count'].apply(lambda x : x.astype(int).sum())\n",
    "fires_monthly = pd.DataFrame(fires_monthly)"
   ]
  },
  {
   "cell_type": "code",
   "execution_count": 32,
   "id": "productive-morning",
   "metadata": {},
   "outputs": [
    {
     "data": {
      "text/plain": [
       "<AxesSubplot:title={'center':'Fire Related Searches Per Month Between 2014 & 2021'}, xlabel='Month', ylabel='Search Count'>"
      ]
     },
     "execution_count": 32,
     "metadata": {},
     "output_type": "execute_result"
    },
    {
     "data": {
      "image/png": "[encoded data removed]",
      "text/plain": [
       "<Figure size 432x288 with 1 Axes>"
      ]
     },
     "metadata": {
      "needs_background": "light"
     },
     "output_type": "display_data"
    }
   ],
   "source": [
    "fires_monthly.sort_values(['query_count'], ascending = False).plot(kind = 'bar',\n",
    "            title = 'Fire Related Searches Per Month Between 2014 & 2021', \n",
    "             color = 'teal', \n",
    "             xlabel = 'Month', \n",
    "             ylabel = 'Search Count')"
   ]
  },
  {
   "cell_type": "markdown",
   "id": "civilian-grass",
   "metadata": {},
   "source": [
    "### Make an API request that returns all the times a query was run more than 100 times in a month. How many times did this occur?\n",
    "#### 1,061 times"
   ]
  },
  {
   "cell_type": "code",
   "execution_count": 33,
   "id": "controlling-mouth",
   "metadata": {},
   "outputs": [
    {
     "data": {
      "text/plain": [
       "200"
      ]
     },
     "execution_count": 33,
     "metadata": {},
     "output_type": "execute_result"
    }
   ],
   "source": [
    "#endpoint:\n",
    "endpoint3 = 'https://data.nashville.gov/resource/fuaa-r5cm.json'\n",
    "#parameters:\n",
    "params3 = {'$select': 'month_name, year, query_count',\n",
    "          '$group': 'year, month_name, query_count',\n",
    "          '$having': 'query_count > 100',\n",
    "          '$limit': 50000}\n",
    "response = requests.get(endpoint3, params = params3)\n",
    "response.status_code"
   ]
  },
  {
   "cell_type": "code",
   "execution_count": 34,
   "id": "complimentary-buddy",
   "metadata": {},
   "outputs": [],
   "source": [
    "#response.json()"
   ]
  },
  {
   "cell_type": "code",
   "execution_count": 35,
   "id": "lesbian-uruguay",
   "metadata": {},
   "outputs": [],
   "source": [
    "o_100 = response.json()\n",
    "o_100 = pd.DataFrame(o_100)"
   ]
  },
  {
   "cell_type": "code",
   "execution_count": 36,
   "id": "varied-abortion",
   "metadata": {},
   "outputs": [
    {
     "data": {
      "text/html": [
       "<div>\n",
       "<style scoped>\n",
       "    .dataframe tbody tr th:only-of-type {\n",
       "        vertical-align: middle;\n",
       "    }\n",
       "\n",
       "    .dataframe tbody tr th {\n",
       "        vertical-align: top;\n",
       "    }\n",
       "\n",
       "    .dataframe thead th {\n",
       "        text-align: right;\n",
       "    }\n",
       "</style>\n",
       "<table border=\"1\" class=\"dataframe\">\n",
       "  <thead>\n",
       "    <tr style=\"text-align: right;\">\n",
       "      <th></th>\n",
       "      <th>month_name</th>\n",
       "      <th>year</th>\n",
       "      <th>query_count</th>\n",
       "    </tr>\n",
       "  </thead>\n",
       "  <tbody>\n",
       "    <tr>\n",
       "      <th>0</th>\n",
       "      <td>January</td>\n",
       "      <td>2021</td>\n",
       "      <td>191</td>\n",
       "    </tr>\n",
       "    <tr>\n",
       "      <th>1</th>\n",
       "      <td>April</td>\n",
       "      <td>2019</td>\n",
       "      <td>114</td>\n",
       "    </tr>\n",
       "    <tr>\n",
       "      <th>2</th>\n",
       "      <td>August</td>\n",
       "      <td>2015</td>\n",
       "      <td>155</td>\n",
       "    </tr>\n",
       "    <tr>\n",
       "      <th>3</th>\n",
       "      <td>December</td>\n",
       "      <td>2019</td>\n",
       "      <td>126</td>\n",
       "    </tr>\n",
       "    <tr>\n",
       "      <th>4</th>\n",
       "      <td>April</td>\n",
       "      <td>2017</td>\n",
       "      <td>174</td>\n",
       "    </tr>\n",
       "  </tbody>\n",
       "</table>\n",
       "</div>"
      ],
      "text/plain": [
       "  month_name  year query_count\n",
       "0    January  2021         191\n",
       "1      April  2019         114\n",
       "2     August  2015         155\n",
       "3   December  2019         126\n",
       "4      April  2017         174"
      ]
     },
     "execution_count": 36,
     "metadata": {},
     "output_type": "execute_result"
    }
   ],
   "source": [
    "o_100.head()"
   ]
  },
  {
   "cell_type": "code",
   "execution_count": 37,
   "id": "compliant-comedy",
   "metadata": {},
   "outputs": [
    {
     "data": {
      "text/plain": [
       "(1061, 3)"
      ]
     },
     "execution_count": 37,
     "metadata": {},
     "output_type": "execute_result"
    }
   ],
   "source": [
    "o_100.shape"
   ]
  },
  {
   "cell_type": "markdown",
   "id": "about-pillow",
   "metadata": {},
   "source": [
    "### Make another API request that returns all the times \"codes\" was searched more than 100 times in a month. How many times did this occur?\n",
    "#### 53 times"
   ]
  },
  {
   "cell_type": "code",
   "execution_count": 38,
   "id": "absent-dietary",
   "metadata": {},
   "outputs": [
    {
     "data": {
      "text/plain": [
       "200"
      ]
     },
     "execution_count": 38,
     "metadata": {},
     "output_type": "execute_result"
    }
   ],
   "source": [
    "#endpoint:\n",
    "endpoint4 = 'https://data.nashville.gov/resource/fuaa-r5cm.json'\n",
    "#parameters:\n",
    "params4 = {'$select': 'month_name, year, query_count',\n",
    "          '$group': 'year, month_name, query_count',\n",
    "          '$having': 'query_count > 100',\n",
    "           '$q': 'codes',\n",
    "          '$limit': 50000}\n",
    "response = requests.get(endpoint4, params = params4)\n",
    "response.status_code"
   ]
  },
  {
   "cell_type": "code",
   "execution_count": 39,
   "id": "decimal-target",
   "metadata": {},
   "outputs": [],
   "source": [
    "#response.json()"
   ]
  },
  {
   "cell_type": "code",
   "execution_count": 40,
   "id": "wireless-original",
   "metadata": {},
   "outputs": [],
   "source": [
    "o_100_codes = response.json()\n",
    "o_100_codes = pd.DataFrame(o_100_codes)"
   ]
  },
  {
   "cell_type": "code",
   "execution_count": 41,
   "id": "comfortable-choice",
   "metadata": {},
   "outputs": [
    {
     "data": {
      "text/html": [
       "<div>\n",
       "<style scoped>\n",
       "    .dataframe tbody tr th:only-of-type {\n",
       "        vertical-align: middle;\n",
       "    }\n",
       "\n",
       "    .dataframe tbody tr th {\n",
       "        vertical-align: top;\n",
       "    }\n",
       "\n",
       "    .dataframe thead th {\n",
       "        text-align: right;\n",
       "    }\n",
       "</style>\n",
       "<table border=\"1\" class=\"dataframe\">\n",
       "  <thead>\n",
       "    <tr style=\"text-align: right;\">\n",
       "      <th></th>\n",
       "      <th>month_name</th>\n",
       "      <th>year</th>\n",
       "      <th>query_count</th>\n",
       "    </tr>\n",
       "  </thead>\n",
       "  <tbody>\n",
       "    <tr>\n",
       "      <th>0</th>\n",
       "      <td>August</td>\n",
       "      <td>2015</td>\n",
       "      <td>117</td>\n",
       "    </tr>\n",
       "    <tr>\n",
       "      <th>1</th>\n",
       "      <td>September</td>\n",
       "      <td>2015</td>\n",
       "      <td>101</td>\n",
       "    </tr>\n",
       "    <tr>\n",
       "      <th>2</th>\n",
       "      <td>April</td>\n",
       "      <td>2016</td>\n",
       "      <td>111</td>\n",
       "    </tr>\n",
       "    <tr>\n",
       "      <th>3</th>\n",
       "      <td>August</td>\n",
       "      <td>2016</td>\n",
       "      <td>104</td>\n",
       "    </tr>\n",
       "    <tr>\n",
       "      <th>4</th>\n",
       "      <td>February</td>\n",
       "      <td>2016</td>\n",
       "      <td>121</td>\n",
       "    </tr>\n",
       "  </tbody>\n",
       "</table>\n",
       "</div>"
      ],
      "text/plain": [
       "  month_name  year query_count\n",
       "0     August  2015         117\n",
       "1  September  2015         101\n",
       "2      April  2016         111\n",
       "3     August  2016         104\n",
       "4   February  2016         121"
      ]
     },
     "execution_count": 41,
     "metadata": {},
     "output_type": "execute_result"
    }
   ],
   "source": [
    "o_100_codes.head()"
   ]
  },
  {
   "cell_type": "code",
   "execution_count": 42,
   "id": "aware-heath",
   "metadata": {},
   "outputs": [
    {
     "data": {
      "text/plain": [
       "(53, 3)"
      ]
     },
     "execution_count": 42,
     "metadata": {},
     "output_type": "execute_result"
    }
   ],
   "source": [
    "o_100_codes.shape"
   ]
  },
  {
   "cell_type": "markdown",
   "id": "demonstrated-circular",
   "metadata": {},
   "source": [
    "### Make an API request to pull back all the data from hubNashville (311) Service Requests (The full data set is too big for a single request so you will need to combine the output from multiple requests). Compare it to the Top 500 Monthly Searches data set. What do you observe? (This is open-ended, there isn't a specific answer for this one)"
   ]
  },
  {
   "cell_type": "markdown",
   "id": "current-triple",
   "metadata": {},
   "source": [
    "There are 627,061 results, so with a download limit of 50,000 that's:\n",
    "rows = 627,061\n",
    "pages = 13"
   ]
  },
  {
   "cell_type": "code",
   "execution_count": 43,
   "id": "attached-humor",
   "metadata": {},
   "outputs": [],
   "source": [
    "#endpoint:\n",
    "endpoint = 'https://data.nashville.gov/resource/7qhx-rexh.json'"
   ]
  },
  {
   "cell_type": "code",
   "execution_count": 44,
   "id": "intense-kinase",
   "metadata": {},
   "outputs": [
    {
     "data": {
      "text/plain": [
       "200"
      ]
     },
     "execution_count": 44,
     "metadata": {},
     "output_type": "execute_result"
    }
   ],
   "source": [
    "#parameters:\n",
    "params = {'$limit': 630000}\n",
    "response = requests.get(endpoint, params = params)\n",
    "response.status_code"
   ]
  },
  {
   "cell_type": "markdown",
   "id": "hawaiian-salmon",
   "metadata": {},
   "source": [
    "### Started a for loop but... I guess we don't need one?\n",
    "\n",
    "full_311 = []\n",
    "for page in list(range(13)):\n",
    "    \n",
    "  for page in list(range(13)):\n",
    "    offset = str(page * 50000)}\n",
    "#response1 = requests.get(endpoint, params = params)\n",
    "#response1.status_code    "
   ]
  },
  {
   "cell_type": "code",
   "execution_count": 45,
   "id": "administrative-passage",
   "metadata": {},
   "outputs": [],
   "source": [
    "#for page in list(range(13)):\n",
    "   # offset_num = str(page * 50000)"
   ]
  },
  {
   "cell_type": "code",
   "execution_count": 46,
   "id": "technological-spread",
   "metadata": {},
   "outputs": [
    {
     "data": {
      "text/plain": [
       "(628205, 33)"
      ]
     },
     "execution_count": 46,
     "metadata": {},
     "output_type": "execute_result"
    }
   ],
   "source": [
    "three11 = response.json()\n",
    "three11 = pd.DataFrame(three11)\n",
    "three11.shape"
   ]
  },
  {
   "cell_type": "markdown",
   "id": "impressed-lightning",
   "metadata": {},
   "source": [
    "### Find 2 new data sets on data.nashville.gov, make API requests to pull the data, and do an analysis that combines the data sets."
   ]
  },
  {
   "cell_type": "code",
   "execution_count": 50,
   "id": "rolled-reform",
   "metadata": {},
   "outputs": [],
   "source": [
    "endpoint = 'https://data.nashville.gov/resource/kqff-rxj8.json'"
   ]
  },
  {
   "cell_type": "code",
   "execution_count": 52,
   "id": "photographic-class",
   "metadata": {},
   "outputs": [
    {
     "data": {
      "text/plain": [
       "200"
      ]
     },
     "execution_count": 52,
     "metadata": {},
     "output_type": "execute_result"
    }
   ],
   "source": [
    "params = {'$select': 'council_district, permit_subtype_description, mapped_location',\n",
    "    '$q': 'Commercial', \n",
    "    '$limit': 50000}\n",
    "response = requests.get(endpoint, params = params)\n",
    "response.status_code"
   ]
  },
  {
   "cell_type": "code",
   "execution_count": 54,
   "id": "strategic-worse",
   "metadata": {},
   "outputs": [
    {
     "name": "stdout",
     "output_type": "stream",
     "text": [
      "(749, 3)\n"
     ]
    },
    {
     "data": {
      "text/html": [
       "<div>\n",
       "<style scoped>\n",
       "    .dataframe tbody tr th:only-of-type {\n",
       "        vertical-align: middle;\n",
       "    }\n",
       "\n",
       "    .dataframe tbody tr th {\n",
       "        vertical-align: top;\n",
       "    }\n",
       "\n",
       "    .dataframe thead th {\n",
       "        text-align: right;\n",
       "    }\n",
       "</style>\n",
       "<table border=\"1\" class=\"dataframe\">\n",
       "  <thead>\n",
       "    <tr style=\"text-align: right;\">\n",
       "      <th></th>\n",
       "      <th>council_district</th>\n",
       "      <th>permit_subtype_description</th>\n",
       "      <th>mapped_location</th>\n",
       "    </tr>\n",
       "  </thead>\n",
       "  <tbody>\n",
       "    <tr>\n",
       "      <th>0</th>\n",
       "      <td>16</td>\n",
       "      <td>Restaurant (Full Service)</td>\n",
       "      <td>{'latitude': '36.114608', 'longitude': '-86.74...</td>\n",
       "    </tr>\n",
       "    <tr>\n",
       "      <th>1</th>\n",
       "      <td>6</td>\n",
       "      <td>Demolition Permit - Commercial</td>\n",
       "      <td>{'latitude': '36.188583', 'longitude': '-86.74...</td>\n",
       "    </tr>\n",
       "    <tr>\n",
       "      <th>2</th>\n",
       "      <td>21</td>\n",
       "      <td>Accessory Structure, Carport</td>\n",
       "      <td>{'latitude': '36.161974', 'longitude': '-86.82...</td>\n",
       "    </tr>\n",
       "    <tr>\n",
       "      <th>3</th>\n",
       "      <td>19</td>\n",
       "      <td>Multifamily, Condominium &gt; 5 Unit Bldg</td>\n",
       "      <td>{'latitude': '36.179374', 'longitude': '-86.78...</td>\n",
       "    </tr>\n",
       "    <tr>\n",
       "      <th>4</th>\n",
       "      <td>33</td>\n",
       "      <td>General Office, Professional Services</td>\n",
       "      <td>{'latitude': '36.0251', 'longitude': '-86.6159...</td>\n",
       "    </tr>\n",
       "  </tbody>\n",
       "</table>\n",
       "</div>"
      ],
      "text/plain": [
       "  council_district              permit_subtype_description  \\\n",
       "0               16               Restaurant (Full Service)   \n",
       "1                6          Demolition Permit - Commercial   \n",
       "2               21            Accessory Structure, Carport   \n",
       "3               19  Multifamily, Condominium > 5 Unit Bldg   \n",
       "4               33   General Office, Professional Services   \n",
       "\n",
       "                                     mapped_location  \n",
       "0  {'latitude': '36.114608', 'longitude': '-86.74...  \n",
       "1  {'latitude': '36.188583', 'longitude': '-86.74...  \n",
       "2  {'latitude': '36.161974', 'longitude': '-86.82...  \n",
       "3  {'latitude': '36.179374', 'longitude': '-86.78...  \n",
       "4  {'latitude': '36.0251', 'longitude': '-86.6159...  "
      ]
     },
     "execution_count": 54,
     "metadata": {},
     "output_type": "execute_result"
    }
   ],
   "source": [
    "commercial = response.json()\n",
    "commercial = pd.DataFrame(commercial)\n",
    "print(commercial.shape)\n",
    "commercial.head()"
   ]
  },
  {
   "cell_type": "markdown",
   "id": "random-nashville",
   "metadata": {},
   "source": [
    "### BONUS: Socrata is used by many cities, states, and federal organizations. Find additional datasets through Socrata's Open Data Network (http://www.opendatanetwork.com/) and do an analysis comparing them to Nashville or each other."
   ]
  },
  {
   "cell_type": "code",
   "execution_count": null,
   "id": "collect-inventory",
   "metadata": {},
   "outputs": [],
   "source": []
  }
 ],
 "metadata": {
  "kernelspec": {
   "display_name": "Python 3 (ipykernel)",
   "language": "python",
   "name": "python3"
  },
  "language_info": {
   "codemirror_mode": {
    "name": "ipython",
    "version": 3
   },
   "file_extension": ".py",
   "mimetype": "text/x-python",
   "name": "python",
   "nbconvert_exporter": "python",
   "pygments_lexer": "ipython3",
   "version": "3.8.8"
  }
 },
 "nbformat": 4,
 "nbformat_minor": 5
}
