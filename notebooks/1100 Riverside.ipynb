{
 "cells": [
  {
   "cell_type": "code",
   "execution_count": 20,
   "id": "a407f39f",
   "metadata": {},
   "outputs": [],
   "source": [
    "import pandas as pd\n",
    "import itertools\n",
    "import numpy as np\n",
    "#settings\n",
    "pd.set_option('display.max_columns', None)\n",
    "pd.set_option('display.max_rows', None)\n",
    "pd.set_option('display.width', 150)"
   ]
  },
  {
   "cell_type": "code",
   "execution_count": 22,
   "id": "8eec833c",
   "metadata": {},
   "outputs": [
    {
     "name": "stdout",
     "output_type": "stream",
     "text": [
      "Monthly payment: $3586.39\n"
     ]
    }
   ],
   "source": [
    "# Define loan variables\n",
    "principal = 425000  # loan amount\n",
    "interest_rate = 0.06  # annual interest rate\n",
    "years = 15  # loan term in years\n",
    "\n",
    "# Calculate monthly interest rate and number of payments\n",
    "monthly_rate = interest_rate / 12\n",
    "num_payments = years * 12\n",
    "\n",
    "# Calculate the monthly loan payment using the formula:\n",
    "# payment = (principal * monthly_rate) / (1 - (1 + monthly_rate)**(-num_payments))\n",
    "payment = (principal * monthly_rate) / (1 - (1 + monthly_rate)**(-num_payments))\n",
    "\n",
    "# Print the monthly loan payment\n",
    "print(f\"Monthly payment: ${round(payment, 2)}\")"
   ]
  },
  {
   "cell_type": "code",
   "execution_count": 17,
   "id": "19facd1e",
   "metadata": {},
   "outputs": [],
   "source": [
    "#amortized over 15 years\n",
    "months = 180"
   ]
  },
  {
   "cell_type": "code",
   "execution_count": 18,
   "id": "d750df5e",
   "metadata": {},
   "outputs": [],
   "source": [
    "#inputs to monthly payment formula\n",
    "#loan principle\n",
    "P = 425000\n",
    "#periodic interest rate\n",
    "rate = 0.06\n",
    "payment = (rate/12) * (1/(1-(1+rate/12)**(-months)))*P"
   ]
  },
  {
   "cell_type": "code",
   "execution_count": null,
   "id": "266e7a01",
   "metadata": {},
   "outputs": [],
   "source": [
    "payment = P*(0.06/12)"
   ]
  },
  {
   "cell_type": "code",
   "execution_count": 19,
   "id": "6236e73a",
   "metadata": {},
   "outputs": [
    {
     "name": "stdout",
     "output_type": "stream",
     "text": [
      "$3586.39 is the monthly payment for an initial loan size $425000, an annual rate of 0.06, & 180 monthly payments\n"
     ]
    }
   ],
   "source": [
    "print('$' + str(round(payment, 2)) + ' is the monthly payment for an initial loan size $' + str(P) + ', an annual rate of ' + str(rate) + ', & ' + str(months) + ' monthly payments')"
   ]
  },
  {
   "cell_type": "code",
   "execution_count": 5,
   "id": "71f078ca",
   "metadata": {},
   "outputs": [],
   "source": [
    "offeringcostlist = [825000, 850000, 875000, 900000, 925000, 950000]"
   ]
  },
  {
   "cell_type": "code",
   "execution_count": 6,
   "id": "6670a8ff",
   "metadata": {},
   "outputs": [],
   "source": [
    "downpaymentlist = [400000, 375000, 350000, 325000, 300000]"
   ]
  },
  {
   "cell_type": "code",
   "execution_count": 7,
   "id": "b5d39476",
   "metadata": {},
   "outputs": [],
   "source": [
    "principle = []\n",
    "for offer, down in itertools.product(offeringcostlist, downpaymentlist):\n",
    "    data = pd.DataFrame({'Down Payment': [down], 'Offer': [offer]})\n",
    "    data['Amount'] = data['Offer'] - data['Down Payment']\n",
    "    principle.append(data)\n",
    "df = pd.concat(principle).reset_index(drop = True)\n",
    "df_nodupe = df.drop_duplicates().reset_index(drop = True)"
   ]
  },
  {
   "cell_type": "code",
   "execution_count": 8,
   "id": "48d0bb84",
   "metadata": {},
   "outputs": [
    {
     "data": {
      "text/plain": [
       "array([425000, 450000, 475000, 500000, 525000, 550000, 575000, 600000,\n",
       "       625000, 650000], dtype=int64)"
      ]
     },
     "execution_count": 8,
     "metadata": {},
     "output_type": "execute_result"
    }
   ],
   "source": [
    "df_nodupe.Amount.unique()"
   ]
  },
  {
   "cell_type": "code",
   "execution_count": 9,
   "id": "8099be03",
   "metadata": {},
   "outputs": [],
   "source": [
    "principlelist = [425000, 450000, 475000, 500000, 525000, 550000, 575000, 600000, 625000, 650000]"
   ]
  },
  {
   "cell_type": "code",
   "execution_count": 10,
   "id": "7249fcc1",
   "metadata": {},
   "outputs": [],
   "source": [
    "ratelist = [0.06, 0.065, 0.07, 0.075]"
   ]
  },
  {
   "cell_type": "code",
   "execution_count": 30,
   "id": "0670c778",
   "metadata": {},
   "outputs": [],
   "source": [
    "df = []\n",
    "for principleoption, rateoption, downpayment in itertools.product(principlelist, ratelist, downpaymentlist):\n",
    "    payment = (rateoption/12) * (1/(1-(1+rateoption/12)**(-months)))*principleoption\n",
    "    data = pd.DataFrame({'Down Payment': [downpayment], 'Principle': [principleoption], 'Rate': [rateoption], 'Monthly Payment': [payment]})\n",
    "    data['Offer'] = data['Principle'] + data['Down Payment']\n",
    "    data['Total Cost of Loan'] = data['Monthly Payment'] * months\n",
    "    data['25% Total Cost of Loan'] = (data['Monthly Payment'] * months)* 0.25\n",
    "    data['30% Total Cost of Loan'] = (data['Monthly Payment'] * months)* 0.3\n",
    "    data['25% of Total Monthly Payment'] = data['Monthly Payment']*0.25\n",
    "    data['25% of Down Payment'] = data['Down Payment']*0.25\n",
    "    data['30% of Total Monthly Payment'] = data['Monthly Payment']*0.30\n",
    "    data['30% of Down Payment'] = data['Down Payment']*0.30  \n",
    "    data['Rent 1'] = 5000\n",
    "    data['Rent 2'] = 6000\n",
    "    data['Rent 3'] = 7000\n",
    "    data['25% Payment - R1'] = (data['Monthly Payment'] - data['Rent 1'])*0.25\n",
    "    data['30% Payment - R1'] = (data['Monthly Payment'] - data['Rent 1'])*0.3\n",
    "    data['25% Payment - R2'] = (data['Monthly Payment'] - data['Rent 2'])*0.25\n",
    "    data['30% Payment - R2'] = (data['Monthly Payment'] - data['Rent 2'])*0.3\n",
    "    data['25% Payment - R3'] = (data['Monthly Payment'] - data['Rent 3'])*0.25\n",
    "    data['30% Payment - R3'] = (data['Monthly Payment'] - data['Rent 3'])*0.3\n",
    "    df.append(data)\n",
    "df = pd.concat(df).reset_index(drop = True)\n",
    "df_nodupe = df.drop_duplicates().reset_index(drop = True)"
   ]
  },
  {
   "cell_type": "code",
   "execution_count": 31,
   "id": "d9129a41",
   "metadata": {},
   "outputs": [],
   "source": [
    "df_nodupe['Down Payment: Percent of Total Offer'] = (df_nodupe['Down Payment'])/df_nodupe['Offer']"
   ]
  },
  {
   "cell_type": "code",
   "execution_count": 32,
   "id": "5a102f1b",
   "metadata": {},
   "outputs": [],
   "source": [
    "# df_nodupe = df_nodupe[['Offer', 'Total Cost of Loan', 'Down Payment', 'Principle', 'Rate', 'Down Payment: Percent of Total Offer', 'Monthly Payment', \n",
    "#                        '40% Total Cost of Loan', '50% Total Cost of Loan', '40% of Total Monthly Payment', '50% of Total Monthly Payment', \n",
    "#                        '40% of Down Payment', '50% of Down Payment', 'Rent 1', 'Rent 2', 'Rent 3', '40% Payment - 40% Rent 1', '50% Payment - 50% Rent 1', \n",
    "#                        '40% Payment - 40% Rent 2', '50% Payment - 50% Rent 2', '40% Payment - 40% Rent 3', '50% Payment - 50 % Rent 3'\n",
    "#                       ]]"
   ]
  },
  {
   "cell_type": "code",
   "execution_count": 34,
   "id": "67c78074",
   "metadata": {},
   "outputs": [],
   "source": [
    "df_nodupe = df_nodupe[['Offer', 'Total Cost of Loan', 'Down Payment', 'Principle', 'Rate', 'Down Payment: Percent of Total Offer', 'Monthly Payment', \n",
    "                       '25% Total Cost of Loan', '30% Total Cost of Loan', '25% of Total Monthly Payment', '30% of Total Monthly Payment', \n",
    "                       '25% of Down Payment', '30% of Down Payment', 'Rent 1', 'Rent 2', 'Rent 3', '25% Payment - R1', '30% Payment - R1', \n",
    "                       '25% Payment - R2', '30% Payment - R2', '25% Payment - R3', '30% Payment - R3'\n",
    "                      ]]"
   ]
  },
  {
   "cell_type": "code",
   "execution_count": 35,
   "id": "4bfc818b",
   "metadata": {},
   "outputs": [],
   "source": [
    "df_nodupe.to_csv('payment scenarios3.csv', index = False)"
   ]
  },
  {
   "cell_type": "code",
   "execution_count": null,
   "id": "e54830c5",
   "metadata": {},
   "outputs": [],
   "source": []
  }
 ],
 "metadata": {
  "kernelspec": {
   "display_name": "Python 3 (ipykernel)",
   "language": "python",
   "name": "python3"
  },
  "language_info": {
   "codemirror_mode": {
    "name": "ipython",
    "version": 3
   },
   "file_extension": ".py",
   "mimetype": "text/x-python",
   "name": "python",
   "nbconvert_exporter": "python",
   "pygments_lexer": "ipython3",
   "version": "3.8.8"
  }
 },
 "nbformat": 4,
 "nbformat_minor": 5
}
